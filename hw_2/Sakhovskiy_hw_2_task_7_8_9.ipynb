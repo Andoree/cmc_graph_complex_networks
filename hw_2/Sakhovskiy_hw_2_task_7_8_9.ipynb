{
 "cells": [
  {
   "cell_type": "code",
   "execution_count": 97,
   "metadata": {
    "collapsed": true
   },
   "outputs": [],
   "source": [
    "import codecs\n",
    "import random\n",
    "from collections import Counter, defaultdict\n",
    "from math import log\n",
    "from random import randint\n",
    "\n",
    "import matplotlib\n",
    "import matplotlib.pyplot as plt\n",
    "import networkx as nx\n",
    "import numpy as np\n",
    "import scipy\n",
    "from scipy.optimize import curve_fit\n",
    "from tqdm import tqdm"
   ]
  },
  {
   "cell_type": "code",
   "execution_count": 98,
   "outputs": [],
   "source": [
    "FONT_SIZE = 16\n",
    "RANDOM_SEED = 42\n",
    "matplotlib.rcParams.update({'font.size': FONT_SIZE})"
   ],
   "metadata": {
    "collapsed": false,
    "pycharm": {
     "name": "#%%\n"
    }
   }
  },
  {
   "cell_type": "markdown",
   "source": [
    "# Задача 7"
   ],
   "metadata": {
    "collapsed": false,
    "pycharm": {
     "name": "#%% md\n"
    }
   }
  },
  {
   "cell_type": "code",
   "execution_count": 99,
   "outputs": [],
   "source": [
    "def generate_buckley_osthus_graph(n, m, a):\n",
    "    G1mn = generate_simple_buckley_osthus_graph(m * n, a)\n",
    "    G = nx.MultiDiGraph()\n",
    "    for u, v in tqdm(G1mn.edges(), miniters=len(G1mn.edges()) // 100, total=len(G1mn.edges())):\n",
    "        u_new, v_new = u // m, v // m\n",
    "        G.add_edge(u_new, v_new)\n",
    "    return G"
   ],
   "metadata": {
    "collapsed": false,
    "pycharm": {
     "name": "#%%\n"
    }
   }
  },
  {
   "cell_type": "code",
   "execution_count": 100,
   "outputs": [],
   "source": [
    "def generate_simple_buckley_osthus_graph(n, a):\n",
    "    simple_buckley_osthus_graph = nx.MultiDiGraph()\n",
    "    simple_buckley_osthus_graph.add_edge(0, 0)\n",
    "    node_degree2node_ids_list = {2 : [0,], 1: list()}\n",
    "    node_degree_2node_count = Counter({2 : 1, 1: 0})\n",
    "\n",
    "    weights = np.zeros(shape=n, dtype=float)\n",
    "    weights[0] = 2 + a - 1\n",
    "    for i in tqdm(range(1, n), total=n, miniters=n // 1000):\n",
    "        new_node_id = simple_buckley_osthus_graph.number_of_nodes()\n",
    "        simple_buckley_osthus_graph.add_node(new_node_id)\n",
    "        node_degrees = list(node_degree_2node_count.keys())\n",
    "        degrees = []\n",
    "        weights = []\n",
    "        for j, node_deg in enumerate(node_degrees):\n",
    "            degrees.append(node_deg)\n",
    "            num_nodes_given_degree = node_degree_2node_count[node_deg]\n",
    "            weights.append(num_nodes_given_degree * (node_deg + a - 1))\n",
    "        degrees.append(-1)\n",
    "        weights.append(a)\n",
    "\n",
    "        randomed_degree = random.choices(degrees, weights=weights)[0]\n",
    "\n",
    "        if randomed_degree == -1:\n",
    "            destination_node_id = new_node_id\n",
    "            node_degree_2node_count[2] += 1\n",
    "            node_degree2node_ids_list[2].append(new_node_id)\n",
    "        else:\n",
    "\n",
    "            destination_node_id = random.choice(node_degree2node_ids_list[randomed_degree])\n",
    "            node_degree2node_ids_list[randomed_degree].remove(destination_node_id)\n",
    "            if node_degree2node_ids_list.get(randomed_degree + 1) is None:\n",
    "                node_degree2node_ids_list[randomed_degree + 1] = []\n",
    "            node_degree2node_ids_list[randomed_degree + 1].append(destination_node_id)\n",
    "            node_degree_2node_count[randomed_degree] -= 1\n",
    "            node_degree_2node_count[randomed_degree + 1] += 1\n",
    "            node_degree_2node_count[1] += 1\n",
    "            node_degree2node_ids_list[1].append(new_node_id)\n",
    "        simple_buckley_osthus_graph.add_edge(new_node_id, destination_node_id)\n",
    "\n",
    "\n",
    "    return simple_buckley_osthus_graph\n"
   ],
   "metadata": {
    "collapsed": false,
    "pycharm": {
     "name": "#%%\n"
    }
   }
  },
  {
   "cell_type": "code",
   "execution_count": 101,
   "outputs": [
    {
     "name": "stderr",
     "output_type": "stream",
     "text": [
      "100%|█████████▉| 9999/10000 [00:02<00:00, 4631.07it/s] \n",
      "100%|██████████| 10000/10000 [00:00<00:00, 373042.56it/s]\n"
     ]
    }
   ],
   "source": [
    "m = 2\n",
    "n = 5000\n",
    "a = 0.27\n",
    "buckley_osthus_graph = generate_buckley_osthus_graph(n, m, a)"
   ],
   "metadata": {
    "collapsed": false,
    "pycharm": {
     "name": "#%%\n"
    }
   }
  },
  {
   "cell_type": "code",
   "execution_count": 102,
   "outputs": [
    {
     "data": {
      "text/plain": "5000"
     },
     "execution_count": 102,
     "metadata": {},
     "output_type": "execute_result"
    }
   ],
   "source": [
    "buckley_osthus_graph.number_of_nodes()"
   ],
   "metadata": {
    "collapsed": false,
    "pycharm": {
     "name": "#%%\n"
    }
   }
  },
  {
   "cell_type": "code",
   "execution_count": 103,
   "outputs": [],
   "source": [
    "degrees = defaultdict(int)\n",
    "for v in buckley_osthus_graph.nodes():\n",
    "    deg = buckley_osthus_graph.degree(v)\n",
    "    degrees[deg] += 1\n",
    "x = sorted(degrees.keys())\n",
    "empyrical_degrees_distribution = [degrees[deg] for deg in x]\n"
   ],
   "metadata": {
    "collapsed": false,
    "pycharm": {
     "name": "#%%\n"
    }
   }
  },
  {
   "cell_type": "code",
   "execution_count": 104,
   "outputs": [],
   "source": [
    "def beta_a_m_d(a, m, d):\n",
    "    beta_num = scipy.special.beta(d - m + m * a, a + 2, )\n",
    "    beta_denom = scipy.special.beta(m * a, a + 1, )\n",
    "    return beta_num / beta_denom"
   ],
   "metadata": {
    "collapsed": false,
    "pycharm": {
     "name": "#%%\n"
    }
   }
  },
  {
   "cell_type": "code",
   "execution_count": 105,
   "outputs": [],
   "source": [
    "theoretical_degrees_distrib = [n * beta_a_m_d(a, m, d) for d in x]\n",
    "for i in range(len(theoretical_degrees_distrib)):\n",
    "    if theoretical_degrees_distrib[i] < 1:\n",
    "        theoretical_degrees_distrib = theoretical_degrees_distrib[:i]\n",
    "        break\n"
   ],
   "metadata": {
    "collapsed": false,
    "pycharm": {
     "name": "#%%\n"
    }
   }
  },
  {
   "cell_type": "markdown",
   "source": [
    "## Сравнение теоретического и эмпирического распределений степеней вершин"
   ],
   "metadata": {
    "collapsed": false,
    "pycharm": {
     "name": "#%% md\n"
    }
   }
  },
  {
   "cell_type": "code",
   "execution_count": 106,
   "outputs": [
    {
     "data": {
      "text/plain": "<Figure size 576x576 with 1 Axes>",
      "image/png": "[encoded data removed]"
     },
     "metadata": {
      "needs_background": "light"
     },
     "output_type": "display_data"
    }
   ],
   "source": [
    "plt.figure(figsize=(8, 8), )\n",
    "plt.loglog(x, empyrical_degrees_distribution, ls='None', marker='.', markersize=7, label=\"Empyrical node degrees distribution\")\n",
    "plt.loglog(x[:len(theoretical_degrees_distrib)], theoretical_degrees_distrib, marker='.', markersize=7,\n",
    "           label=\"Theoretical node degrees distribution\")\n",
    "plt.xlabel(\"Log node degree\", )\n",
    "plt.ylabel(\"Log number of nodes\")\n",
    "plt.legend()\n",
    "plt.show()"
   ],
   "metadata": {
    "collapsed": false,
    "pycharm": {
     "name": "#%%\n"
    }
   }
  },
  {
   "cell_type": "markdown",
   "source": [
    "## Проверка быстроты генерации графа при n=10000 и m=5\n",
    "\n",
    "**Генерируется быстрее, чем за минуту**"
   ],
   "metadata": {
    "collapsed": false,
    "pycharm": {
     "name": "#%% md\n"
    }
   }
  },
  {
   "cell_type": "code",
   "execution_count": 107,
   "outputs": [
    {
     "name": "stderr",
     "output_type": "stream",
     "text": [
      "100%|█████████▉| 49999/50000 [00:45<00:00, 1105.34it/s]\n",
      "100%|██████████| 50000/50000 [00:00<00:00, 71100.24it/s]\n"
     ]
    }
   ],
   "source": [
    "m = 5\n",
    "n = 10000\n",
    "a = 0.27\n",
    "buckley_osthus_graph = generate_buckley_osthus_graph(n, m, a)"
   ],
   "metadata": {
    "collapsed": false,
    "pycharm": {
     "name": "#%%\n"
    }
   }
  },
  {
   "cell_type": "code",
   "execution_count": 107,
   "outputs": [],
   "source": [],
   "metadata": {
    "collapsed": false,
    "pycharm": {
     "name": "#%%\n"
    }
   }
  },
  {
   "cell_type": "code",
   "execution_count": 107,
   "outputs": [],
   "source": [],
   "metadata": {
    "collapsed": false,
    "pycharm": {
     "name": "#%%\n"
    }
   }
  },
  {
   "cell_type": "code",
   "execution_count": 108,
   "outputs": [],
   "source": [
    "# raise Exception"
   ],
   "metadata": {
    "collapsed": false,
    "pycharm": {
     "name": "#%%\n"
    }
   }
  },
  {
   "cell_type": "markdown",
   "source": [
    "# Задача 8"
   ],
   "metadata": {
    "collapsed": false,
    "pycharm": {
     "name": "#%% md\n"
    }
   }
  },
  {
   "cell_type": "code",
   "execution_count": 109,
   "outputs": [],
   "source": [
    "def load_edges_list(input_graph_edges_path):\n",
    "    edges_list = []\n",
    "    with codecs.open(input_graph_edges_path, 'r') as inp_file:\n",
    "        for line in inp_file:\n",
    "            nodes = line.strip().split('\\t')\n",
    "            source_node = int(nodes[0])\n",
    "            target_node = int(nodes[1])\n",
    "            edges_list.append((source_node, target_node))\n",
    "    return edges_list"
   ],
   "metadata": {
    "collapsed": false,
    "pycharm": {
     "name": "#%%\n"
    }
   }
  },
  {
   "cell_type": "code",
   "execution_count": 110,
   "outputs": [],
   "source": [
    "input_graph_edges_path = \"graph.txt\"\n",
    "edges_list = load_edges_list(input_graph_edges_path)"
   ],
   "metadata": {
    "collapsed": false,
    "pycharm": {
     "name": "#%%\n"
    }
   }
  },
  {
   "cell_type": "code",
   "execution_count": 111,
   "outputs": [
    {
     "data": {
      "text/plain": "[(0, 1), (1, 2), (2, 0)]"
     },
     "execution_count": 111,
     "metadata": {},
     "output_type": "execute_result"
    }
   ],
   "source": [
    "edges_list[:3]"
   ],
   "metadata": {
    "collapsed": false,
    "pycharm": {
     "name": "#%%\n"
    }
   }
  },
  {
   "cell_type": "code",
   "execution_count": 111,
   "outputs": [],
   "source": [],
   "metadata": {
    "collapsed": false,
    "pycharm": {
     "name": "#%%\n"
    }
   }
  },
  {
   "cell_type": "code",
   "execution_count": 112,
   "outputs": [],
   "source": [
    "def initialize_graph(start_edges):\n",
    "    input_degrees = Counter()\n",
    "    output_degrees = Counter()\n",
    "    nodes_set = set()\n",
    "    for (source_node, target_node) in start_edges:\n",
    "        if output_degrees.get(target_node) is None:\n",
    "            output_degrees[target_node] = 0\n",
    "        if input_degrees.get(source_node) is None:\n",
    "            input_degrees[source_node] = 0\n",
    "        output_degrees[source_node] += 1\n",
    "        input_degrees[target_node] += 1\n",
    "        nodes_set.add(source_node)\n",
    "        nodes_set.add(target_node)\n",
    "    return input_degrees, output_degrees, nodes_set"
   ],
   "metadata": {
    "collapsed": false,
    "pycharm": {
     "name": "#%%\n"
    }
   }
  },
  {
   "cell_type": "code",
   "execution_count": 113,
   "outputs": [],
   "source": [
    "def calculate_graph_likelihood(added_edges, input_degrees, output_degrees, nodes_set, delta_in, delta_out, alpha, beta,\n",
    "                               gamma):\n",
    "    likelihood_sum = 0\n",
    "    for t, (source_node, target_node) in enumerate(added_edges):\n",
    "        t += 3\n",
    "        num_nodes = len(nodes_set)\n",
    "        if source_node in nodes_set and target_node in nodes_set:\n",
    "            source_node_output_degree = output_degrees[source_node]\n",
    "            target_node_input_degree = input_degrees[target_node]\n",
    "            source_node_p = (source_node_output_degree + delta_out) / (t - 1 + delta_out * num_nodes)\n",
    "            target_node_p = (target_node_input_degree + delta_in) / (t - 1 + delta_in * num_nodes)\n",
    "            edge_probability = beta * source_node_p * target_node_p\n",
    "        elif source_node in nodes_set and target_node not in nodes_set:\n",
    "            source_node_output_degree = output_degrees[source_node]\n",
    "            source_node_p = (source_node_output_degree + delta_out) / (num_nodes - 1 + delta_out * num_nodes)\n",
    "            edge_probability = gamma * source_node_p\n",
    "        elif target_node in nodes_set and source_node not in nodes_set:\n",
    "            target_node_input_degree = input_degrees[target_node]\n",
    "            target_node_p = (target_node_input_degree + delta_in) / (t - 1 + delta_in * num_nodes)\n",
    "            edge_probability = alpha * target_node_p\n",
    "        else:\n",
    "            raise Exception(\"Edge error\")\n",
    "        input_degrees[target_node] += 1\n",
    "        output_degrees[source_node] += 1\n",
    "        nodes_set.add(source_node)\n",
    "        nodes_set.add(target_node)\n",
    "        log_likelihood = log(edge_probability, )\n",
    "        likelihood_sum += log_likelihood\n",
    "    return likelihood_sum / len(added_edges)"
   ],
   "metadata": {
    "collapsed": false,
    "pycharm": {
     "name": "#%%\n"
    }
   }
  },
  {
   "cell_type": "code",
   "execution_count": 114,
   "outputs": [],
   "source": [
    "delta_out = 0\n",
    "# delta_in = 0.5\n",
    "alpha = 0.5\n",
    "beta = 0.5\n",
    "gamma = 0\n",
    "start_edges, added_edges = edges_list[:3], edges_list[3:]"
   ],
   "metadata": {
    "collapsed": false,
    "pycharm": {
     "name": "#%%\n"
    }
   }
  },
  {
   "cell_type": "code",
   "execution_count": 115,
   "outputs": [],
   "source": [
    "input_degrees, output_degrees, nodes_set = initialize_graph(start_edges)"
   ],
   "metadata": {
    "collapsed": false,
    "pycharm": {
     "name": "#%%\n"
    }
   }
  },
  {
   "cell_type": "markdown",
   "source": [
    "### Граф зависимости логарифма правдоподобия от $\\delta_{in}$"
   ],
   "metadata": {
    "collapsed": false,
    "pycharm": {
     "name": "#%% md\n"
    }
   }
  },
  {
   "cell_type": "code",
   "execution_count": 116,
   "outputs": [
    {
     "name": "stderr",
     "output_type": "stream",
     "text": [
      "No artists with labels found to put in legend.  Note that artists whose label start with an underscore are ignored when legend() is called with no argument.\n"
     ]
    },
    {
     "data": {
      "text/plain": "<Figure size 720x360 with 1 Axes>",
      "image/png": "[encoded data removed]"
     },
     "metadata": {
      "needs_background": "light"
     },
     "output_type": "display_data"
    }
   ],
   "source": [
    "likelihoods_list = []\n",
    "delta_ins_range = np.arange(0.01, 2.01, 0.01)\n",
    "for delta_in in delta_ins_range:\n",
    "    input_degrees, output_degrees, nodes_set = initialize_graph(start_edges)\n",
    "    # print(len(nodes_set), len(input_degrees.keys()), len(output_degrees.keys()))\n",
    "    likelihood = calculate_graph_likelihood(added_edges=added_edges, input_degrees=input_degrees,\n",
    "                                            output_degrees=output_degrees, nodes_set=nodes_set, delta_in=delta_in,\n",
    "                                            delta_out=delta_out, alpha=alpha, beta=beta, gamma=gamma)\n",
    "    likelihoods_list.append(likelihood)\n",
    "plt.figure(figsize=(10, 5), )\n",
    "plt.plot(delta_ins_range, likelihoods_list, marker='.', markersize=5)\n",
    "plt.xlabel(\"Delta-in probability\", )\n",
    "plt.ylabel(\"Log-likelihood\")\n",
    "plt.legend()\n",
    "plt.show()\n"
   ],
   "metadata": {
    "collapsed": false,
    "pycharm": {
     "name": "#%%\n"
    }
   }
  },
  {
   "cell_type": "markdown",
   "source": [
    "### Нахождение оптимального значения $\\delta_{in}$ с точностью до 10e-4"
   ],
   "metadata": {
    "collapsed": false,
    "pycharm": {
     "name": "#%% md\n"
    }
   }
  },
  {
   "cell_type": "code",
   "execution_count": 117,
   "outputs": [],
   "source": [
    "max_likelihood = -np.inf\n",
    "best_delta_in = None\n",
    "delta_ins_range = np.arange(0.25, 1.01, 0.0001)\n",
    "for delta_in in delta_ins_range:\n",
    "    input_degrees, output_degrees, nodes_set = initialize_graph(start_edges)\n",
    "    likelihood = calculate_graph_likelihood(added_edges=added_edges, input_degrees=input_degrees,\n",
    "                                            output_degrees=output_degrees, nodes_set=nodes_set, delta_in=delta_in,\n",
    "                                            delta_out=delta_out, alpha=alpha, beta=beta, gamma=gamma)\n",
    "    if likelihood > max_likelihood:\n",
    "        max_likelihood = likelihood\n",
    "        best_delta_in = delta_in"
   ],
   "metadata": {
    "collapsed": false,
    "pycharm": {
     "name": "#%%\n"
    }
   }
  },
  {
   "cell_type": "code",
   "execution_count": 118,
   "outputs": [
    {
     "name": "stdout",
     "output_type": "stream",
     "text": [
      "Оптимальное значение delta_in: 0.6268999999999585\n"
     ]
    }
   ],
   "source": [
    "print(f\"Оптимальное значение delta_in: {best_delta_in}\")"
   ],
   "metadata": {
    "collapsed": false,
    "pycharm": {
     "name": "#%%\n"
    }
   }
  },
  {
   "cell_type": "markdown",
   "source": [
    "# Задача 9"
   ],
   "metadata": {
    "collapsed": false
   }
  },
  {
   "cell_type": "code",
   "execution_count": 119,
   "outputs": [
    {
     "name": "stderr",
     "output_type": "stream",
     "text": [
      "100%|██████████| 99998/99998 [00:00<00:00, 515338.96it/s]\n"
     ]
    }
   ],
   "source": [
    "graph_edges = [(0, 1)]\n",
    "edge_degrees = {0: 1, 1: 1}\n",
    "num_iterations = 100000\n",
    "num_deg_2_nodes = 0\n",
    "num_deg_2_nodes_history = []\n",
    "for t in tqdm(range(2, num_iterations), miniters=num_iterations // 100):\n",
    "    num_deg_2_nodes_history.append(num_deg_2_nodes / t)\n",
    "    num_edges = len(graph_edges)\n",
    "    edge_id = randint(0, num_edges - 1)\n",
    "    (node_id_1, node_id_2) = graph_edges[edge_id]\n",
    "    edge_degrees[t] = 2\n",
    "    num_deg_2_nodes += 1\n",
    "    if edge_degrees[node_id_1] == 1:\n",
    "        num_deg_2_nodes += 1\n",
    "    if edge_degrees[node_id_2] == 1:\n",
    "        num_deg_2_nodes += 1\n",
    "    if edge_degrees[node_id_1] == 2:\n",
    "        num_deg_2_nodes -= 1\n",
    "    if edge_degrees[node_id_2] == 2:\n",
    "        num_deg_2_nodes -= 1\n",
    "\n",
    "    edge_degrees[node_id_1] += 1\n",
    "    edge_degrees[node_id_2] += 1\n",
    "\n",
    "    edge_1 = (t, node_id_1)\n",
    "    edge_2 = (t, node_id_2)\n",
    "    graph_edges.append(edge_1)\n",
    "    graph_edges.append(edge_2)\n",
    "\n"
   ],
   "metadata": {
    "collapsed": false,
    "pycharm": {
     "name": "#%%\n"
    }
   }
  },
  {
   "cell_type": "markdown",
   "source": [
    "### Доля вершин степени 2\n",
    "\n",
    "**Доля вершин степени 2 есть 0.5 от общего количества вершин**"
   ],
   "metadata": {
    "collapsed": false,
    "pycharm": {
     "name": "#%% md\n"
    }
   }
  },
  {
   "cell_type": "code",
   "execution_count": 120,
   "outputs": [
    {
     "name": "stderr",
     "output_type": "stream",
     "text": [
      "No artists with labels found to put in legend.  Note that artists whose label start with an underscore are ignored when legend() is called with no argument.\n"
     ]
    },
    {
     "data": {
      "text/plain": "<Figure size 720x360 with 1 Axes>",
      "image/png": "[encoded data removed]"
     },
     "metadata": {
      "needs_background": "light"
     },
     "output_type": "display_data"
    }
   ],
   "source": [
    "plt.figure(figsize=(10, 5), )\n",
    "plt.plot(range(2, num_iterations), num_deg_2_nodes_history, marker='.', markersize=4)\n",
    "plt.xlabel(\"t\", )\n",
    "plt.ylabel(\"# Nodes with degree 2\")\n",
    "plt.legend()\n",
    "plt.show()\n"
   ],
   "metadata": {
    "collapsed": false,
    "pycharm": {
     "name": "#%%\n"
    }
   }
  },
  {
   "cell_type": "code",
   "execution_count": 120,
   "outputs": [],
   "source": [],
   "metadata": {
    "collapsed": false,
    "pycharm": {
     "name": "#%%\n"
    }
   }
  }
 ],
 "metadata": {
  "kernelspec": {
   "display_name": "Python 3",
   "language": "python",
   "name": "python3"
  },
  "language_info": {
   "codemirror_mode": {
    "name": "ipython",
    "version": 2
   },
   "file_extension": ".py",
   "mimetype": "text/x-python",
   "name": "python",
   "nbconvert_exporter": "python",
   "pygments_lexer": "ipython2",
   "version": "2.7.6"
  }
 },
 "nbformat": 4,
 "nbformat_minor": 0
}